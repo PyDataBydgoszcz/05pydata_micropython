{
 "cells": [
  {
   "cell_type": "markdown",
   "id": "1e05660b-f9bd-40d8-a9b5-23dbfcbf4329",
   "metadata": {},
   "source": [
    "![Iris](https://miro.medium.com/max/700/1*f6KbPXwksAliMIsibFyGJw.png)"
   ]
  },
  {
   "cell_type": "code",
   "execution_count": 2,
   "id": "b5e5f0ff-9bc5-421f-b7b6-8d7628ca21eb",
   "metadata": {},
   "outputs": [],
   "source": [
    "from sklearn import datasets\n",
    "from sklearn.model_selection import train_test_split\n",
    "from sklearn.metrics import accuracy_score\n",
    "from xgboost import XGBClassifier\n",
    "import m2cgen"
   ]
  },
  {
   "cell_type": "code",
   "execution_count": 3,
   "id": "3496aa01-ce39-4d92-9fd5-a23255821dac",
   "metadata": {},
   "outputs": [],
   "source": [
    "iris=datasets.load_iris()"
   ]
  },
  {
   "cell_type": "markdown",
   "id": "9febdca5-c615-4214-ac7e-6783fc6d8b5b",
   "metadata": {},
   "source": [
    "Podział danych"
   ]
  },
  {
   "cell_type": "code",
   "execution_count": 4,
   "id": "fca871d3-f936-4373-8204-e940a0c83884",
   "metadata": {},
   "outputs": [],
   "source": [
    "x = iris.data\n",
    "y = iris.target\n",
    "x_train,x_test,y_train,y_test=train_test_split(x, y, test_size=.5)"
   ]
  },
  {
   "cell_type": "markdown",
   "id": "eb3bd2bd-a031-4cf4-82d8-503b859f3d01",
   "metadata": {},
   "source": [
    "Trening"
   ]
  },
  {
   "cell_type": "code",
   "execution_count": 5,
   "id": "e23e4848-a440-412c-96eb-a6c00df50e98",
   "metadata": {},
   "outputs": [],
   "source": [
    "model = XGBClassifier(use_label_encoder=False)"
   ]
  },
  {
   "cell_type": "code",
   "execution_count": 6,
   "id": "1b761fe0-6042-4817-8834-39fcaa5c66a7",
   "metadata": {},
   "outputs": [
    {
     "name": "stdout",
     "output_type": "stream",
     "text": [
      "[10:22:38] WARNING: ../src/learner.cc:1095: Starting in XGBoost 1.3.0, the default evaluation metric used with the objective 'multi:softprob' was changed from 'merror' to 'mlogloss'. Explicitly set eval_metric if you'd like to restore the old behavior.\n"
     ]
    },
    {
     "data": {
      "text/plain": [
       "XGBClassifier(base_score=0.5, booster='gbtree', colsample_bylevel=1,\n",
       "              colsample_bynode=1, colsample_bytree=1, gamma=0, gpu_id=-1,\n",
       "              importance_type='gain', interaction_constraints='',\n",
       "              learning_rate=0.300000012, max_delta_step=0, max_depth=6,\n",
       "              min_child_weight=1, missing=nan, monotone_constraints='()',\n",
       "              n_estimators=100, n_jobs=40, num_parallel_tree=1,\n",
       "              objective='multi:softprob', random_state=0, reg_alpha=0,\n",
       "              reg_lambda=1, scale_pos_weight=None, subsample=1,\n",
       "              tree_method='exact', use_label_encoder=False,\n",
       "              validate_parameters=1, verbosity=None)"
      ]
     },
     "execution_count": 6,
     "metadata": {},
     "output_type": "execute_result"
    }
   ],
   "source": [
    "model.fit(x_train,y_train)"
   ]
  },
  {
   "cell_type": "markdown",
   "id": "993a9176-cc2c-49e0-a7e9-6ac31a5ae369",
   "metadata": {},
   "source": [
    "Test"
   ]
  },
  {
   "cell_type": "code",
   "execution_count": 7,
   "id": "eadf5d56-b9ca-4ad2-96ed-d4107024166e",
   "metadata": {},
   "outputs": [],
   "source": [
    "predictions = model.predict(x_test)"
   ]
  },
  {
   "cell_type": "code",
   "execution_count": 8,
   "id": "8de199a6-7b85-4284-afda-f19d9c6c9c76",
   "metadata": {},
   "outputs": [
    {
     "name": "stdout",
     "output_type": "stream",
     "text": [
      "ACC 0.9466666666666667\n"
     ]
    }
   ],
   "source": [
    "print('ACC', accuracy_score(y_test,predictions))"
   ]
  },
  {
   "cell_type": "markdown",
   "id": "1185e87c-117c-4120-bfef-38be15fd0ec8",
   "metadata": {},
   "source": [
    "Wyłuskanie modelu"
   ]
  },
  {
   "cell_type": "code",
   "execution_count": 9,
   "id": "28463706-904c-4467-98d0-b5ee5974c4a9",
   "metadata": {},
   "outputs": [],
   "source": [
    "code = m2cgen.export_to_python(model)"
   ]
  },
  {
   "cell_type": "code",
   "execution_count": 13,
   "id": "3cdd42b1-32d8-4d43-9295-909f13edfd3e",
   "metadata": {},
   "outputs": [],
   "source": [
    "with open('ml/model.py', 'w') as f:\n",
    "    f.write(code)"
   ]
  },
  {
   "cell_type": "markdown",
   "id": "dea36925-cf11-441e-9d12-cadacf74550f",
   "metadata": {},
   "source": [
    "Dane do testów"
   ]
  },
  {
   "cell_type": "code",
   "execution_count": 11,
   "id": "a472c174-d076-4db8-b094-bbf272c84577",
   "metadata": {},
   "outputs": [
    {
     "data": {
      "text/plain": [
       "array([[5. , 2.3, 3.3, 1. ],\n",
       "       [7.7, 2.6, 6.9, 2.3],\n",
       "       [6.3, 2.8, 5.1, 1.5],\n",
       "       [4.9, 2.4, 3.3, 1. ]])"
      ]
     },
     "execution_count": 11,
     "metadata": {},
     "output_type": "execute_result"
    }
   ],
   "source": [
    "x_test[0:4]"
   ]
  },
  {
   "cell_type": "code",
   "execution_count": 12,
   "id": "3acbbbb7-eea0-41b1-97a8-94a9210b9f8b",
   "metadata": {},
   "outputs": [
    {
     "data": {
      "text/plain": [
       "array([1, 2, 2, 1])"
      ]
     },
     "execution_count": 12,
     "metadata": {},
     "output_type": "execute_result"
    }
   ],
   "source": [
    "y_test[0:4]"
   ]
  },
  {
   "cell_type": "code",
   "execution_count": null,
   "id": "1a282a91-dd50-4ed6-bdf9-2e2ade055af5",
   "metadata": {},
   "outputs": [],
   "source": []
  }
 ],
 "metadata": {
  "kernelspec": {
   "display_name": "Python 3 (ipykernel)",
   "language": "python",
   "name": "python3"
  },
  "language_info": {
   "codemirror_mode": {
    "name": "ipython",
    "version": 3
   },
   "file_extension": ".py",
   "mimetype": "text/x-python",
   "name": "python",
   "nbconvert_exporter": "python",
   "pygments_lexer": "ipython3",
   "version": "3.8.10"
  }
 },
 "nbformat": 4,
 "nbformat_minor": 5
}
