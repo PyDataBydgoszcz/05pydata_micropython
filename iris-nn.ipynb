{
 "cells": [
  {
   "cell_type": "markdown",
   "id": "e08c244c-96c1-4625-bb9b-050c5f052d34",
   "metadata": {},
   "source": [
    "![Iris](https://miro.medium.com/max/700/1*f6KbPXwksAliMIsibFyGJw.png)"
   ]
  },
  {
   "cell_type": "code",
   "execution_count": 7,
   "id": "b82497a1-0c4a-48a1-9b54-d582631b28b0",
   "metadata": {},
   "outputs": [],
   "source": [
    "import numpy as np\n",
    "from sklearn import datasets\n",
    "from sklearn.model_selection import train_test_split\n",
    "from sklearn.metrics import accuracy_score\n",
    "from tqdm.auto import tqdm\n",
    "import torch\n",
    "from torch.utils.data import Dataset\n",
    "from torch.utils.data import DataLoader\n",
    "from torch import Tensor\n",
    "from torch.nn import functional as F\n",
    "from torch import nn\n",
    "from torch.optim import Adam\n",
    "from torch.nn import Linear\n",
    "from torch.nn import ReLU\n",
    "from torch.nn import Softmax\n",
    "from torch.nn import Module\n",
    "from torch.nn import CrossEntropyLoss"
   ]
  },
  {
   "cell_type": "code",
   "execution_count": 8,
   "id": "873f125b-1af0-44b2-aa8a-d644e1cdeeca",
   "metadata": {},
   "outputs": [],
   "source": [
    "iris=datasets.load_iris()"
   ]
  },
  {
   "cell_type": "markdown",
   "id": "dae2af25-578c-47e8-adaf-1b83f281f94a",
   "metadata": {},
   "source": [
    "Podział danych"
   ]
  },
  {
   "cell_type": "code",
   "execution_count": 12,
   "id": "83ea12df-29ba-4f8a-9a6e-50fac477ecfb",
   "metadata": {},
   "outputs": [],
   "source": [
    "x = iris.data\n",
    "y = iris.target\n",
    "x_train,x_valid,y_train,y_valid=train_test_split(x, y, test_size=.3)"
   ]
  },
  {
   "cell_type": "code",
   "execution_count": 20,
   "id": "7f514c64-c7fd-46c8-870c-7c9cb556ba3b",
   "metadata": {},
   "outputs": [
    {
     "name": "stdout",
     "output_type": "stream",
     "text": [
      "device: cuda:0\n"
     ]
    }
   ],
   "source": [
    "device = torch.device(0)\n",
    "print(f'device: {device}')"
   ]
  },
  {
   "cell_type": "code",
   "execution_count": 16,
   "id": "666a5f7b-c55d-4b7f-bca5-34fa4b6005d3",
   "metadata": {},
   "outputs": [],
   "source": [
    "class EcgDataset(Dataset):\n",
    "    def __init__(self, x, y):\n",
    "        self.x = Tensor(x).to(device)\n",
    "        self.y = Tensor(y).type(torch.LongTensor).to(device)\n",
    "        \n",
    "    def __len__(self):\n",
    "        return len(self.x)\n",
    " \n",
    "    def __getitem__(self, idx):\n",
    "        return [self.x[idx], self.y[idx]]"
   ]
  },
  {
   "cell_type": "code",
   "execution_count": 17,
   "id": "c419fca5-5100-4bda-91d8-9f29b75b7dc0",
   "metadata": {},
   "outputs": [],
   "source": [
    "ds_train = EcgDataset(x_train, y_train)\n",
    "ds_valid = EcgDataset(x_valid, y_valid)\n",
    "dl_train = DataLoader(ds_train, batch_size=16, shuffle=True)\n",
    "dl_valid = DataLoader(ds_valid, batch_size=1024, shuffle=False)"
   ]
  },
  {
   "cell_type": "markdown",
   "id": "91945c41-ec6a-48ac-b7d6-7ad6c65e7b27",
   "metadata": {},
   "source": [
    "Model"
   ]
  },
  {
   "cell_type": "code",
   "execution_count": 35,
   "id": "e152cdd3-aa56-48f7-b79c-f4a940ccab72",
   "metadata": {},
   "outputs": [],
   "source": [
    "class IrisNet(Module):\n",
    "    \n",
    "    def __init__(self, n_inputs, n_outputs):\n",
    "        super(IrisNet, self).__init__()\n",
    "\n",
    "        self.linear1 = Linear(n_inputs, 15)\n",
    "        self.relu = ReLU()\n",
    "        self.linear2 = Linear(15, n_outputs)\n",
    "        self.softmax = Softmax(dim=1)\n",
    " \n",
    "    def forward(self, X):\n",
    "        X = self.linear1(X)\n",
    "        X = self.relu(X)\n",
    "        X = self.linear2(X)\n",
    "        X = self.softmax(X)\n",
    "        return X"
   ]
  },
  {
   "cell_type": "code",
   "execution_count": 36,
   "id": "1be76b7c-4a85-4b5f-93c3-245827cf61dd",
   "metadata": {},
   "outputs": [],
   "source": [
    "model = IrisNet(4, 3).to(device)"
   ]
  },
  {
   "cell_type": "markdown",
   "id": "1dc94a6f-670f-4acc-b977-926055a29fbe",
   "metadata": {},
   "source": [
    "Trening"
   ]
  },
  {
   "cell_type": "code",
   "execution_count": 37,
   "id": "2645c7cf-d6b7-431b-88cc-5618ef9df02e",
   "metadata": {},
   "outputs": [],
   "source": [
    "def trainModel(model, dl_train, dl_valid, n_epoch):\n",
    "    criterion = CrossEntropyLoss()\n",
    "    optimizer = Adam(model.parameters(), lr=0.001)\n",
    "    \n",
    "    # epoki uczenia\n",
    "    for epoch in tqdm(range(n_epoch)):\n",
    "        if epoch % 5 == 0:\n",
    "            with torch.no_grad():\n",
    "                accTrain, lossTrain = evaluateModel(model, dl_train)\n",
    "                accValid, lossValid = evaluateModel(model, dl_valid)\n",
    "                print(f'epoch: {epoch}, Train ACC: {accTrain}, loss: {lossTrain}, Valid ACC: {accValid}, loss: {lossValid}')\n",
    "\n",
    "        for i, (inputs, targets) in enumerate(dl_train):\n",
    "            optimizer.zero_grad()\n",
    "            yhat = model(inputs)\n",
    "            loss = criterion(yhat, targets.flatten())\n",
    "            loss.backward()\n",
    "            optimizer.step()"
   ]
  },
  {
   "cell_type": "code",
   "execution_count": 38,
   "id": "c002f543-fe62-49c4-bce4-9419dee9cbb1",
   "metadata": {},
   "outputs": [],
   "source": [
    "def evaluateModel(model, test_dl):\n",
    "    with torch.no_grad():\n",
    "        criterion = CrossEntropyLoss()\n",
    "\n",
    "        x = test_dl.dataset.x\n",
    "        y = test_dl.dataset.y\n",
    "        \n",
    "        yhat = model(x)\n",
    "        losses = F.cross_entropy(yhat, y.flatten()).detach().cpu().numpy()\n",
    "        \n",
    "        yhat = yhat.detach().cpu().numpy()\n",
    "        actuals = y.cpu().numpy()\n",
    "        predictions = np.argmax(yhat, axis=1)\n",
    "        \n",
    "        acc = accuracy_score(actuals, predictions)\n",
    "        loss = losses.mean()\n",
    "        return acc, loss"
   ]
  },
  {
   "cell_type": "code",
   "execution_count": 39,
   "id": "d9913fce-b54b-448e-a23d-83dbb896a009",
   "metadata": {},
   "outputs": [
    {
     "data": {
      "application/vnd.jupyter.widget-view+json": {
       "model_id": "44101f834fc04459aa0ae4f4a37a4f75",
       "version_major": 2,
       "version_minor": 0
      },
      "text/plain": [
       "  0%|          | 0/100 [00:00<?, ?it/s]"
      ]
     },
     "metadata": {},
     "output_type": "display_data"
    },
    {
     "name": "stdout",
     "output_type": "stream",
     "text": [
      "epoch: 0, Train ACC: 0.34285714285714286, loss: 1.1117284297943115, Valid ACC: 0.3111111111111111, loss: 1.1228059530258179\n",
      "epoch: 5, Train ACC: 0.34285714285714286, loss: 1.0912303924560547, Valid ACC: 0.3111111111111111, loss: 1.1022017002105713\n",
      "epoch: 10, Train ACC: 0.34285714285714286, loss: 1.0770721435546875, Valid ACC: 0.3111111111111111, loss: 1.0867270231246948\n",
      "epoch: 15, Train ACC: 0.34285714285714286, loss: 1.0595675706863403, Valid ACC: 0.3111111111111111, loss: 1.065768837928772\n",
      "epoch: 20, Train ACC: 0.6476190476190476, loss: 1.034699559211731, Valid ACC: 0.6888888888888889, loss: 1.0336154699325562\n",
      "epoch: 25, Train ACC: 0.6476190476190476, loss: 1.00166654586792, Valid ACC: 0.7111111111111111, loss: 0.9912658929824829\n",
      "epoch: 30, Train ACC: 0.6476190476190476, loss: 0.9638787508010864, Valid ACC: 0.7111111111111111, loss: 0.9441419243812561\n",
      "epoch: 35, Train ACC: 0.6476190476190476, loss: 0.9283139705657959, Valid ACC: 0.7111111111111111, loss: 0.9008463621139526\n",
      "epoch: 40, Train ACC: 0.6476190476190476, loss: 0.898706316947937, Valid ACC: 0.7111111111111111, loss: 0.8661812543869019\n",
      "epoch: 45, Train ACC: 0.6476190476190476, loss: 0.8755646347999573, Valid ACC: 0.7111111111111111, loss: 0.840914249420166\n",
      "epoch: 50, Train ACC: 0.6476190476190476, loss: 0.8569141030311584, Valid ACC: 0.7111111111111111, loss: 0.8214890360832214\n",
      "epoch: 55, Train ACC: 0.6666666666666666, loss: 0.8406786322593689, Valid ACC: 0.7333333333333333, loss: 0.8057483434677124\n",
      "epoch: 60, Train ACC: 0.7523809523809524, loss: 0.8256896138191223, Valid ACC: 0.8888888888888888, loss: 0.7923983335494995\n",
      "epoch: 65, Train ACC: 0.8571428571428571, loss: 0.8118588924407959, Valid ACC: 0.9555555555555556, loss: 0.7807024717330933\n",
      "epoch: 70, Train ACC: 0.8666666666666667, loss: 0.7987711429595947, Valid ACC: 0.9555555555555556, loss: 0.7684312462806702\n",
      "epoch: 75, Train ACC: 0.9333333333333333, loss: 0.7863072156906128, Valid ACC: 0.9777777777777777, loss: 0.7576019167900085\n",
      "epoch: 80, Train ACC: 0.9428571428571428, loss: 0.7744849920272827, Valid ACC: 0.9777777777777777, loss: 0.7459462285041809\n",
      "epoch: 85, Train ACC: 0.9428571428571428, loss: 0.7632550001144409, Valid ACC: 1.0, loss: 0.7348114848136902\n",
      "epoch: 90, Train ACC: 0.9523809523809523, loss: 0.75249183177948, Valid ACC: 1.0, loss: 0.7256545424461365\n",
      "epoch: 95, Train ACC: 0.9523809523809523, loss: 0.742214024066925, Valid ACC: 1.0, loss: 0.7163655757904053\n"
     ]
    }
   ],
   "source": [
    "n_epoch = 100\n",
    "trainModel(model, dl_train, dl_valid, n_epoch)"
   ]
  },
  {
   "cell_type": "markdown",
   "id": "c3ec9348-10cf-4049-85fc-65eb56881c15",
   "metadata": {},
   "source": [
    "Zapis wag"
   ]
  },
  {
   "cell_type": "code",
   "execution_count": 40,
   "id": "82ad81ac-884b-4bc2-82c4-4d8cde2a2e18",
   "metadata": {},
   "outputs": [],
   "source": [
    "w1 = model.linear1.weight.detach().cpu().numpy()\n",
    "b1 = model.linear1.bias.detach().cpu().numpy()\n",
    "w2 = model.linear2.weight.detach().cpu().numpy()\n",
    "b2 = model.linear2.bias.detach().cpu().numpy()"
   ]
  },
  {
   "cell_type": "code",
   "execution_count": 41,
   "id": "2c3a6611-31e6-41bc-b49e-3113ce188a66",
   "metadata": {},
   "outputs": [],
   "source": [
    "x = ds_valid.x[0].detach().cpu().numpy()"
   ]
  },
  {
   "cell_type": "code",
   "execution_count": 43,
   "id": "15e4558f-bca6-412d-97a5-4c0b84ee5e6b",
   "metadata": {},
   "outputs": [],
   "source": [
    "np.save('ml/w1.npy', w1)\n",
    "np.save('ml/b1.npy', b1)\n",
    "np.save('ml/w2.npy', w2)\n",
    "np.save('ml/b2.npy', b2)\n",
    "np.save('ml/x.npy', x)"
   ]
  },
  {
   "cell_type": "code",
   "execution_count": null,
   "id": "377e3d1d-af8c-4c1d-b354-ea97090f44a8",
   "metadata": {},
   "outputs": [],
   "source": []
  }
 ],
 "metadata": {
  "kernelspec": {
   "display_name": "Python 3 (ipykernel)",
   "language": "python",
   "name": "python3"
  },
  "language_info": {
   "codemirror_mode": {
    "name": "ipython",
    "version": 3
   },
   "file_extension": ".py",
   "mimetype": "text/x-python",
   "name": "python",
   "nbconvert_exporter": "python",
   "pygments_lexer": "ipython3",
   "version": "3.8.10"
  }
 },
 "nbformat": 4,
 "nbformat_minor": 5
}
